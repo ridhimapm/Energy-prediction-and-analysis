{
  "nbformat": 4,
  "nbformat_minor": 0,
  "metadata": {
    "colab": {
      "name": "MLR.ipynb",
      "provenance": [],
      "collapsed_sections": []
    },
    "kernelspec": {
      "name": "python3",
      "display_name": "Python 3"
    },
    "language_info": {
      "name": "python"
    }
  },
  "cells": [
    {
      "cell_type": "markdown",
      "metadata": {
        "id": "9bLInUEM-qdS"
      },
      "source": [
        "\n",
        "**Pandas profiling cannot be starightforwardy used on Colab,\n",
        "To use the pandas-profiling, first the package needs to be uninstalled and then re-installed in order to work**."
      ]
    },
    {
      "cell_type": "code",
      "metadata": {
        "colab": {
          "base_uri": "https://localhost:8080/"
        },
        "id": "n1jSb_AM1ZDD",
        "outputId": "79b7197d-12ff-4bc3-bb94-16430289758f"
      },
      "source": [
        "pip uninstall pandas_profiling"
      ],
      "execution_count": 3,
      "outputs": [
        {
          "output_type": "stream",
          "name": "stdout",
          "text": [
            "\u001b[33mWARNING: Skipping pandas-profiling as it is not installed.\u001b[0m\n"
          ]
        }
      ]
    },
    {
      "cell_type": "code",
      "metadata": {
        "colab": {
          "base_uri": "https://localhost:8080/",
          "height": 131
        },
        "id": "V2mmHQuK1WB-",
        "outputId": "6dea01d2-709b-45b8-fd31-89bae4cbf972"
      },
      "source": [
        "#After Installatiom. Restart Runtime(Necessary before mounting and reading the dataset)\n",
        "pip install https://github.com/pandas-profiling/pandas-profiling/archive/master.zip"
      ],
      "execution_count": 2,
      "outputs": [
        {
          "output_type": "error",
          "ename": "SyntaxError",
          "evalue": "ignored",
          "traceback": [
            "\u001b[0;36m  File \u001b[0;32m\"<ipython-input-2-4cd2f6ea2abc>\"\u001b[0;36m, line \u001b[0;32m2\u001b[0m\n\u001b[0;31m    pip install https://github.com/pandas-profiling/pandas-profiling/archive/master.zip\u001b[0m\n\u001b[0m              ^\u001b[0m\n\u001b[0;31mSyntaxError\u001b[0m\u001b[0;31m:\u001b[0m invalid syntax\n"
          ]
        }
      ]
    },
    {
      "cell_type": "code",
      "metadata": {
        "id": "dmxum6Ob0Hlv"
      },
      "source": [
        "#Import the libraries such as pandas, NumPy. \n",
        "import pandas as pd\n",
        "import numpy as np\n",
        "from pandas_profiling import ProfileReport    #imports pandas profiling library"
      ],
      "execution_count": null,
      "outputs": []
    },
    {
      "cell_type": "code",
      "metadata": {
        "id": "qor-rwLW1AQb"
      },
      "source": [
        "#Mounts the Google Drive to Google Colab\n",
        "from google.colab import drive\n",
        "drive.mount(\"/content/gdrive\")"
      ],
      "execution_count": null,
      "outputs": []
    },
    {
      "cell_type": "code",
      "metadata": {
        "id": "1tXgx-oi1U_w"
      },
      "source": [
        "#To read the dataset from the GoogleDrive\n",
        "data = pd.read_csv('/content/gdrive/My Drive/Dataset3.csv')"
      ],
      "execution_count": null,
      "outputs": []
    },
    {
      "cell_type": "code",
      "metadata": {
        "id": "y73Z45ox2MjK"
      },
      "source": [
        "#Print the data\n",
        "data"
      ],
      "execution_count": null,
      "outputs": []
    },
    {
      "cell_type": "code",
      "metadata": {
        "id": "cLOnN7Oi_HQM"
      },
      "source": [
        "#The dataset contains eight attributes (or features, denoted by X1...X8) and two responses (or outcomes, denoted by y1 and y2)\n",
        "#Renaming columns\n",
        "data.columns = ['relative_compactness', 'surface_area', 'wall_area', 'roof_area', 'overall_height',\n",
        "                'orientation', 'glazing_area', 'glazing_area_distribution', 'heating_load', 'cooling_load']\n",
        "                "
      ],
      "execution_count": null,
      "outputs": []
    },
    {
      "cell_type": "code",
      "metadata": {
        "id": "ncj1BQQe_RFA"
      },
      "source": [
        "#To print a concise summary of a DataFrame, its memory usage and data types\n",
        "data.info()"
      ],
      "execution_count": null,
      "outputs": []
    },
    {
      "cell_type": "code",
      "metadata": {
        "id": "qtRkyP_Z2ljM"
      },
      "source": [
        "#pandas_profiling.ProfileReport(df)\n",
        "#To see the data as Two-dimensional, size-mutable, potentially heterogeneous tabular data\n",
        "df = pd.DataFrame(data)\n",
        "df"
      ],
      "execution_count": null,
      "outputs": []
    },
    {
      "cell_type": "code",
      "metadata": {
        "id": "LvMU9fqd58G7"
      },
      "source": [
        "#profile=ProfileReport(df,title=\"Dataset1\",html={'style':{'full_width':True}})\n",
        "#profile"
      ],
      "execution_count": null,
      "outputs": []
    },
    {
      "cell_type": "code",
      "metadata": {
        "id": "hRriqVC649AK"
      },
      "source": [
        "import pandas_profiling\n",
        "pandas_profiling.ProfileReport(data)"
      ],
      "execution_count": null,
      "outputs": []
    },
    {
      "cell_type": "code",
      "metadata": {
        "id": "t7KZX9U76cuj"
      },
      "source": [
        "import seaborn as sns\n",
        "import matplotlib.pyplot as plt\n",
        "plt.figure(figsize=(12,12))\n",
        "sns.heatmap(data.corr(),annot=True)"
      ],
      "execution_count": null,
      "outputs": []
    },
    {
      "cell_type": "code",
      "metadata": {
        "id": "Ker_-3lU77S7"
      },
      "source": [
        "pd.set_option('display.float_format',lambda x: '{:,.2f}'.format(x) if abs(x) < 10000 else '{:,.0f}'.format(x))\n",
        "data.corr()"
      ],
      "execution_count": null,
      "outputs": []
    },
    {
      "cell_type": "code",
      "metadata": {
        "id": "V-WRCPHT84Rg"
      },
      "source": [
        "plt.figure(figsize=(5,5))\n",
        "sns.pairplot(data=data, y_vars=['cooling_load','heating_load'],\n",
        "             x_vars=['relative_compactness', 'surface_area', 'wall_area', 'roof_area', 'overall_height',\n",
        "                     'orientation', 'glazing_area', 'glazing_area_distribution',])\n",
        "plt.show()"
      ],
      "execution_count": null,
      "outputs": []
    },
    {
      "cell_type": "code",
      "metadata": {
        "id": "xBBn19PuALKH"
      },
      "source": [
        ""
      ],
      "execution_count": null,
      "outputs": []
    },
    {
      "cell_type": "code",
      "metadata": {
        "id": "b13F0TcUAiw0"
      },
      "source": [
        "\n",
        "\n",
        "data.isnull().sum()"
      ],
      "execution_count": null,
      "outputs": []
    },
    {
      "cell_type": "code",
      "metadata": {
        "id": "fgDB5ir_AoQ9"
      },
      "source": [
        "data.describe()"
      ],
      "execution_count": null,
      "outputs": []
    },
    {
      "cell_type": "code",
      "metadata": {
        "id": "La-fG0NkA1g0"
      },
      "source": [
        "from sklearn.preprocessing import Normalizer\n",
        "nr = Normalizer(copy=False)\n",
        "X = data.drop(['heating_load','cooling_load'], axis=1)\n",
        "X = nr.fit_transform(X)\n",
        "y = data[['heating_load','cooling_load']]"
      ],
      "execution_count": null,
      "outputs": []
    },
    {
      "cell_type": "code",
      "metadata": {
        "id": "hFFORV9cA8va"
      },
      "source": [
        "from sklearn.model_selection import train_test_split\n",
        "X_train, X_test, y_train, y_test = train_test_split(X, y, test_size = 0.3, random_state = 123)"
      ],
      "execution_count": null,
      "outputs": []
    },
    {
      "cell_type": "code",
      "metadata": {
        "id": "v0CXiOLDBA-Q"
      },
      "source": [
        "def evaluate(model, test_features, test_labels):\n",
        "    from sklearn.metrics import r2_score\n",
        "    predictions = model.predict(test_features)\n",
        "    R2 = np.mean(r2_score(test_labels, predictions))\n",
        "    print('R2 score = %.3f' % R2)\n",
        "    return r2_score"
      ],
      "execution_count": null,
      "outputs": []
    },
    {
      "cell_type": "code",
      "metadata": {
        "id": "FsH3upJRBhbf"
      },
      "source": [
        "#Import decision tree regressor\n",
        "from sklearn.tree import DecisionTreeRegressor\n",
        "# Create decision tree model \n",
        "dt_model = DecisionTreeRegressor(random_state=123)\n",
        "# Apply the model\n",
        "dt_model.fit(X_train, y_train)\n",
        "# Predicted value\n",
        "y_pred1 = dt_model.predict(X_test)"
      ],
      "execution_count": null,
      "outputs": []
    },
    {
      "cell_type": "code",
      "metadata": {
        "id": "QEXi2V0vCXMo"
      },
      "source": [
        "R2_before_dt= evaluate(dt_model, X_test, y_test)"
      ],
      "execution_count": null,
      "outputs": []
    },
    {
      "cell_type": "code",
      "metadata": {
        "id": "BGABj2PpOMsD"
      },
      "source": [
        "f, (ax1, ax2) = plt.subplots(1, 2, sharey=True)\n",
        "#Visualize the heating load output before optimization\n",
        "plt.figure(figsize = (5,5))\n",
        "ax1.plot(range(0,len(X_test)),y_test.iloc[:,0],'o',color='red',label = 'Actual Values')\n",
        "ax1.plot(range(0,len(X_test)),y_pred1[:,0],'X',color='yellow',label = 'Predicted Values')\n",
        "ax1.set_xlabel('Test Cases')\n",
        "ax1.set_ylabel('Heating Load')\n",
        "ax1.set_title('Heating  Load Before Optimization')\n",
        "ax1.legend(loc = 'upper right')\n",
        "\n",
        "#Visualize the cooling load output before optimization\n",
        "plt.figure(figsize = (5,5))\n",
        "\n",
        "ax2.plot(range(0,len(X_test)),y_test.iloc[:,1],'o',color='green',label = 'Actual Values')\n",
        "ax2.plot(range(0,len(X_test)),y_pred1[:,1],'X',color='blue',label = 'Predicted Values')\n",
        "ax2.set_xlabel('Test Cases')\n",
        "ax2.set_ylabel('Cooling Load')\n",
        "ax2.set_title('Cooling Load Before Optimization')\n",
        "ax2.legend(loc = 'upper right')\n",
        "\n",
        "plt.show()"
      ],
      "execution_count": null,
      "outputs": []
    },
    {
      "cell_type": "code",
      "metadata": {
        "id": "guoht7HyP1hU"
      },
      "source": [
        "# Finding the best decision tree optimization parameters\n",
        "\n",
        "f, (ax1, ax2) = plt.subplots(1, 2, sharey=True)\n",
        "# Max Depth\n",
        "dt_acc = []\n",
        "dt_depth = range(1,11)\n",
        "for i in dt_depth:\n",
        "    dt = DecisionTreeRegressor(random_state=123, max_depth=i)\n",
        "    dt.fit(X_train, y_train)\n",
        "    dt_acc.append(dt.score(X_test, y_test))\n",
        "ax1.plot(dt_depth,dt_acc)\n",
        "ax1.set_title('Max Depth')\n",
        "\n",
        "#Min Samples Split\n",
        "dt_acc = []\n",
        "dt_samples_split = range(10,21)\n",
        "for i in dt_samples_split:\n",
        "    dt = DecisionTreeRegressor(random_state=123, min_samples_split=i)\n",
        "    dt.fit(X_train, y_train)\n",
        "    dt_acc.append(dt.score(X_test, y_test))\n",
        "ax2.plot(dt_samples_split,dt_acc)\n",
        "ax2.set_title('Min Samples Split')\n",
        "\n",
        "plt.show()"
      ],
      "execution_count": null,
      "outputs": []
    },
    {
      "cell_type": "code",
      "metadata": {
        "id": "EDgRju-fP6_p"
      },
      "source": [
        "plt.figure(figsize = (5,5))\n",
        "dt_acc = []\n",
        "dt_samples_leaf = range(1,10)\n",
        "for i in dt_samples_leaf:\n",
        "    dt = DecisionTreeRegressor(random_state=123, min_samples_leaf=i)\n",
        "    dt.fit(X_train, y_train)\n",
        "    dt_acc.append(dt.score(X_test, y_test))\n",
        "\n",
        "plt.plot(dt_samples_leaf,dt_acc)\n",
        "plt.title('Min Sample Leaf')\n",
        "\n",
        "plt.show()"
      ],
      "execution_count": null,
      "outputs": []
    },
    {
      "cell_type": "code",
      "metadata": {
        "id": "_24lj4MTPA2L"
      },
      "source": [
        "# Decision tree optimization parameters\n",
        "from sklearn.model_selection import GridSearchCV\n",
        "parameters = {'max_depth' : [7,8,9],\n",
        "              'min_samples_split': [16,17,18],\n",
        "              'min_samples_leaf' : [6,7,8]}\n",
        "\n",
        "\n",
        "#Create new model using the GridSearch\n",
        "dt_random = GridSearchCV(dt_model, parameters, cv=10)\n",
        "\n",
        "#Apply the model\n",
        "dt_random.fit(X_train, y_train)"
      ],
      "execution_count": null,
      "outputs": []
    },
    {
      "cell_type": "code",
      "metadata": {
        "id": "wUXz1wooQG3f"
      },
      "source": [
        "dt_random.best_params_"
      ],
      "execution_count": null,
      "outputs": []
    },
    {
      "cell_type": "code",
      "metadata": {
        "id": "11sIaVrRQKBa"
      },
      "source": [
        "y_pred1_ = dt_random.best_estimator_.predict(X_test)"
      ],
      "execution_count": null,
      "outputs": []
    },
    {
      "cell_type": "code",
      "metadata": {
        "id": "EvgUJFTcQN8B"
      },
      "source": [
        "dt_best_random = dt_random.best_estimator_\n",
        "R2_after_dt= evaluate(dt_best_random, X_test, y_test)"
      ],
      "execution_count": null,
      "outputs": []
    },
    {
      "cell_type": "code",
      "metadata": {
        "id": "lPD-6svdQPbU"
      },
      "source": [
        "f, (ax1, ax2) = plt.subplots(1, 2, sharey=True)\n",
        "#Visualize the heating load output after optimization\n",
        "plt.figure(figsize = (5,5))\n",
        "ax1.plot(range(0,len(X_test)),y_test.iloc[:,0],'o',color='red',label = 'Actual Values')\n",
        "ax1.plot(range(0,len(X_test)),y_pred1_[:,0],'X',color='yellow',label = 'Predicted Values')\n",
        "ax1.set_xlabel('Test Cases')\n",
        "ax1.set_ylabel('Heating Load')\n",
        "ax1.set_title('Heating  Load After Optimization')\n",
        "ax1.legend(loc = 'upper right')\n",
        "\n",
        "#Visualize the cooling load output after optimization\n",
        "plt.figure(figsize = (5,5))\n",
        "ax2.plot(range(0,len(X_test)),y_test.iloc[:,1],'o',color='green',label = 'Actual Values')\n",
        "ax2.plot(range(0,len(X_test)),y_pred1_[:,1],'X',color='blue',label = 'Predicted Values')\n",
        "ax2.set_xlabel('Test Cases')\n",
        "ax2.set_ylabel('Cooling Load')\n",
        "ax2.set_title('Cooling Load After Optimization')\n",
        "ax2.legend(loc = 'upper right')\n",
        "\n",
        "plt.show()"
      ],
      "execution_count": null,
      "outputs": []
    },
    {
      "cell_type": "code",
      "metadata": {
        "id": "2n6Sz8WKQTV_"
      },
      "source": [
        ""
      ],
      "execution_count": null,
      "outputs": []
    },
    {
      "cell_type": "markdown",
      "metadata": {
        "id": "HDqZl8b55ngU"
      },
      "source": [
        "RANDOM forest Regressor"
      ]
    },
    {
      "cell_type": "code",
      "metadata": {
        "id": "rhcUao9o5ptW"
      },
      "source": [
        "#Import random forest regressor\n",
        "from sklearn.ensemble import RandomForestRegressor\n",
        "# Create random forest model \n",
        "rf_model = RandomForestRegressor(random_state=123)\n",
        "# Apply the model\n",
        "rf_model.fit(X_train, y_train)\n",
        "# Predicted value\n",
        "y_pred2 = rf_model.predict(X_test)"
      ],
      "execution_count": null,
      "outputs": []
    },
    {
      "cell_type": "code",
      "metadata": {
        "id": "FdwRURmt5tRM"
      },
      "source": [
        "#R2 score before optimization\n",
        "R2_before_rf= evaluate(rf_model, X_test, y_test)"
      ],
      "execution_count": null,
      "outputs": []
    },
    {
      "cell_type": "code",
      "metadata": {
        "id": "0WiBMNkX5yTQ"
      },
      "source": [
        "f, (ax1, ax2) = plt.subplots(1, 2, sharey=True)\n",
        "#Visualize the heating load output before optimization\n",
        "plt.figure(figsize = (5,5))\n",
        "ax1.plot(range(0,len(X_test)),y_test.iloc[:,0],'o',color='red',label = 'Actual Values')\n",
        "ax1.plot(range(0,len(X_test)),y_pred2[:,0],'X',color='yellow',label = 'Predicted Values')\n",
        "ax1.set_xlabel('Test Cases')\n",
        "ax1.set_ylabel('Heating Load')\n",
        "ax1.set_title('Heating  Load Before Optimization')\n",
        "ax1.legend(loc = 'upper right')\n",
        "\n",
        "#Visualize the cooling load output before optimization\n",
        "plt.figure(figsize = (5,5))\n",
        "ax2.plot(range(0,len(X_test)),y_test.iloc[:,1],'o',color='green',label = 'Actual Values')\n",
        "ax2.plot(range(0,len(X_test)),y_pred2[:,1],'X',color='blue',label = 'Predicted Values')\n",
        "ax2.set_xlabel('Test Cases')\n",
        "ax2.set_ylabel('Cooling Load')\n",
        "ax2.set_title('Cooling Load Before Optimization')\n",
        "ax2.legend(loc = 'upper right')\n",
        "\n",
        "plt.show()"
      ],
      "execution_count": null,
      "outputs": []
    },
    {
      "cell_type": "code",
      "metadata": {
        "id": "qoUbMJnl5zpV"
      },
      "source": [
        "# Finding the best random forest optimization parameters\n",
        "\n",
        "f, axarr = plt.subplots(2, 2)\n",
        "\n",
        "# Max Depth\n",
        "rf_acc = []\n",
        "rf_depth = range(1,11)\n",
        "for i in rf_depth:\n",
        "    rf = RandomForestRegressor(random_state=123, max_depth=i)\n",
        "    rf.fit(X_train, y_train)\n",
        "    rf_acc.append(rf.score(X_test, y_test))\n",
        "axarr[0, 0].plot(rf_depth,rf_acc)\n",
        "axarr[0, 0].set_title('Max Depth')\n",
        "\n",
        "#Min Samples Split\n",
        "rf_acc = []\n",
        "rf_samples_split = range(10,21)\n",
        "for i in rf_samples_split:\n",
        "    rf = RandomForestRegressor(random_state=123, min_samples_split=i)\n",
        "    rf.fit(X_train, y_train)\n",
        "    rf_acc.append(rf.score(X_test, y_test))\n",
        "axarr[0, 1].plot(rf_samples_split,rf_acc)\n",
        "axarr[0, 1].set_title('Min Samples Split')\n",
        "\n",
        "#Min Sample Leaf\n",
        "rf_acc = []\n",
        "rf_samples_leaf = range(1,10)\n",
        "for i in rf_samples_leaf:\n",
        "    rf = RandomForestRegressor(random_state=123, min_samples_leaf=i)\n",
        "    rf.fit(X_train, y_train)\n",
        "    rf_acc.append(rf.score(X_test, y_test))\n",
        "\n",
        "axarr[1, 0].plot(rf_samples_leaf,rf_acc)\n",
        "axarr[1, 0].set_title('Min Sample Leaf')\n",
        "\n",
        "#N Estimator\n",
        "rf_acc = []\n",
        "rf_estimators = range(50,59)\n",
        "for i in rf_estimators:\n",
        "    rf = RandomForestRegressor(random_state=123, n_estimators=i)\n",
        "    rf.fit(X_train, y_train)\n",
        "    rf_acc.append(rf.score(X_test, y_test))\n",
        "\n",
        "axarr[1, 1].plot(rf_estimators,rf_acc)\n",
        "axarr[1, 1].set_title('N Estimator')\n",
        "\n",
        "plt.show()"
      ],
      "execution_count": null,
      "outputs": []
    },
    {
      "cell_type": "code",
      "metadata": {
        "id": "1kCZ48NY594Q"
      },
      "source": [
        "# Random forest optimization parameters\n",
        "from sklearn.model_selection import GridSearchCV\n",
        "parameters = {'max_depth' : [6,7,8],\n",
        "              'min_samples_split': [11,12,13],\n",
        "              'min_samples_leaf' : [4,5,6],\n",
        "              'n_estimators': [49,50,51]}\n",
        "\n",
        "\n",
        "#Create new model using the GridSearch\n",
        "rf_random = GridSearchCV(rf_model, parameters, cv=10)\n",
        "\n",
        "#Apply the model\n",
        "rf_random.fit(X_train, y_train)"
      ],
      "execution_count": null,
      "outputs": []
    },
    {
      "cell_type": "code",
      "metadata": {
        "id": "2H8_Ns2V6EqV"
      },
      "source": [
        "#View the best parameters\n",
        "rf_random.best_params_\n"
      ],
      "execution_count": null,
      "outputs": []
    },
    {
      "cell_type": "code",
      "metadata": {
        "id": "tVr7rHUl6fRf"
      },
      "source": [
        "# Predicted value\n",
        "y_pred2_ = rf_random.best_estimator_.predict(X_test)"
      ],
      "execution_count": null,
      "outputs": []
    },
    {
      "cell_type": "code",
      "metadata": {
        "id": "WeC07Oey6iO5"
      },
      "source": [
        "#R2 score after optimization\n",
        "best_random_rf = rf_random.best_estimator_\n",
        "R2_after_rf= evaluate(best_random_rf, X_test, y_test)"
      ],
      "execution_count": null,
      "outputs": []
    },
    {
      "cell_type": "code",
      "metadata": {
        "id": "LOK9xpHM6lYz"
      },
      "source": [
        "f, (ax1, ax2) = plt.subplots(1, 2, sharey=True)\n",
        "#Visualize the heating load output after optimization\n",
        "plt.figure(figsize = (5,5))\n",
        "ax1.plot(range(0,len(X_test)),y_test.iloc[:,0],'o',color='red',label = 'Actual Values')\n",
        "ax1.plot(range(0,len(X_test)),y_pred2_[:,0],'X',color='yellow',label = 'Predicted Values')\n",
        "ax1.set_xlabel('Test Cases')\n",
        "ax1.set_ylabel('Heating Load')\n",
        "ax1.set_title('Heating  Load After Optimization')\n",
        "ax1.legend(loc = 'upper right')\n",
        "\n",
        "#Visualize the cooling load output after optimization\n",
        "plt.figure(figsize = (5,5))\n",
        "ax2.plot(range(0,len(X_test)),y_test.iloc[:,1],'o',color='green',label = 'Actual Values')\n",
        "ax2.plot(range(0,len(X_test)),y_pred2_[:,1],'X',color='blue',label = 'Predicted Values')\n",
        "ax2.set_xlabel('Test Cases')\n",
        "ax2.set_ylabel('Cooling Load')\n",
        "ax2.set_title('Cooling Load After Optimization')\n",
        "ax2.legend(loc = 'upper right')\n",
        "\n",
        "plt.show()"
      ],
      "execution_count": null,
      "outputs": []
    },
    {
      "cell_type": "code",
      "metadata": {
        "id": "pSMuPMbj6pAO"
      },
      "source": [
        ""
      ],
      "execution_count": null,
      "outputs": []
    },
    {
      "cell_type": "markdown",
      "metadata": {
        "id": "Ov35ZvGV6rw3"
      },
      "source": [
        "3. Extra Trees Regressor"
      ]
    },
    {
      "cell_type": "code",
      "metadata": {
        "id": "HsgfN7796t_3"
      },
      "source": [
        "#Import extra trees regressor\n",
        "from sklearn.ensemble import ExtraTreesRegressor\n",
        "# Create extra trees model \n",
        "etr_model = ExtraTreesRegressor(random_state=123)\n",
        "# Apply the model\n",
        "etr_model.fit(X_train, y_train)\n",
        "# Predicted value\n",
        "y_pred3 = etr_model.predict(X_test)"
      ],
      "execution_count": null,
      "outputs": []
    },
    {
      "cell_type": "code",
      "metadata": {
        "id": "Q5dLBmRc6wrS"
      },
      "source": [
        "#R2 score before optimization\n",
        "R2_before_etr= evaluate(etr_model, X_test, y_test)"
      ],
      "execution_count": null,
      "outputs": []
    },
    {
      "cell_type": "code",
      "metadata": {
        "id": "9bnRTYRB60Sd"
      },
      "source": [
        "f, (ax1, ax2) = plt.subplots(1, 2, sharey=True)\n",
        "#Visualize the heating load output before optimization\n",
        "plt.figure(figsize = (5,5))\n",
        "ax1.plot(range(0,len(X_test)),y_test.iloc[:,0],'o',color='red',label = 'Actual Values')\n",
        "ax1.plot(range(0,len(X_test)),y_pred3[:,0],'X',color='yellow',label = 'Predicted Values')\n",
        "ax1.set_xlabel('Test Cases')\n",
        "ax1.set_ylabel('Heating Load')\n",
        "ax1.set_title('Heating  Load Before Optimization')\n",
        "ax1.legend(loc = 'upper right')\n",
        "\n",
        "#Visualize the cooling load output before optimization\n",
        "plt.figure(figsize = (5,5))\n",
        "ax2.plot(range(0,len(X_test)),y_test.iloc[:,1],'o',color='green',label = 'Actual Values')\n",
        "ax2.plot(range(0,len(X_test)),y_pred3[:,1],'X',color='blue',label = 'Predicted Values')\n",
        "ax2.set_xlabel('Test Cases')\n",
        "ax2.set_ylabel('Cooling Load')\n",
        "ax2.set_title('Cooling Load Before Optimization')\n",
        "ax2.legend(loc = 'upper right')\n",
        "\n",
        "plt.show()"
      ],
      "execution_count": null,
      "outputs": []
    },
    {
      "cell_type": "code",
      "metadata": {
        "id": "r70xru4S656n"
      },
      "source": [
        "# Finding the best extra trees regressor optimization parameters\n",
        "\n",
        "f, axarr = plt.subplots(2, 2)\n",
        "\n",
        "# Max Depth\n",
        "etr_acc = []\n",
        "etr_depth = range(1,11)\n",
        "for i in etr_depth:\n",
        "    etr = ExtraTreesRegressor(random_state=123, max_depth=i)\n",
        "    etr.fit(X_train, y_train)\n",
        "    etr_acc.append(etr.score(X_test, y_test))\n",
        "axarr[0, 0].plot(etr_depth,etr_acc)\n",
        "axarr[0, 0].set_title('Max Depth')\n",
        "\n",
        "#Min Samples Split\n",
        "etr_acc = []\n",
        "etr_samples_split = range(16,26)\n",
        "for i in etr_samples_split:\n",
        "    etr = ExtraTreesRegressor(random_state=123, min_samples_split=i)\n",
        "    etr.fit(X_train, y_train)\n",
        "    etr_acc.append(etr.score(X_test, y_test))\n",
        "axarr[0, 1].plot(etr_samples_split,etr_acc)\n",
        "axarr[0, 1].set_title('Min Samples Split')\n",
        "\n",
        "#Min Sample Leaf\n",
        "etr_acc = []\n",
        "etr_samples_leaf = range(3,8)\n",
        "for i in etr_samples_leaf:\n",
        "    etr = ExtraTreesRegressor(random_state=123, min_samples_leaf=i)\n",
        "    etr.fit(X_train, y_train)\n",
        "    etr_acc.append(etr.score(X_test, y_test))\n",
        "\n",
        "axarr[1, 0].plot(etr_samples_leaf,etr_acc)\n",
        "axarr[1, 0].set_title('Min Sample Leaf')\n",
        "\n",
        "#N Estimator\n",
        "etr_acc = []\n",
        "etr_estimators = range(40,46)\n",
        "for i in etr_estimators:\n",
        "    etr = ExtraTreesRegressor(random_state=123, n_estimators=i)\n",
        "    etr.fit(X_train, y_train)\n",
        "    etr_acc.append(etr.score(X_test, y_test))\n",
        "\n",
        "axarr[1, 1].plot(etr_estimators,etr_acc)\n",
        "axarr[1, 1].set_title('N Estimator')\n",
        "\n",
        "plt.show()"
      ],
      "execution_count": null,
      "outputs": []
    },
    {
      "cell_type": "code",
      "metadata": {
        "id": "2MLWgg-o6--t"
      },
      "source": [
        ""
      ],
      "execution_count": null,
      "outputs": []
    },
    {
      "cell_type": "code",
      "metadata": {
        "id": "2HgJTtWr6_G3"
      },
      "source": [
        "# Extra trees regressor optimization parameters\n",
        "from sklearn.model_selection import GridSearchCV\n",
        "parameters = {'max_depth' : [6,7,8],\n",
        "              'min_samples_split': [19,20,21],\n",
        "              'min_samples_leaf' : [4,5,6],\n",
        "              'n_estimators': [43,44,45]}\n",
        "\n",
        "\n",
        "#Create new model using the GridSearch\n",
        "etr_random = GridSearchCV(etr_model, parameters, cv=10)\n",
        "\n",
        "#Apply the model\n",
        "etr_random.fit(X_train, y_train)"
      ],
      "execution_count": null,
      "outputs": []
    },
    {
      "cell_type": "code",
      "metadata": {
        "id": "xoPtt9aD8ke0"
      },
      "source": [
        "#View the best parameters\n",
        "etr_random.best_params_"
      ],
      "execution_count": null,
      "outputs": []
    },
    {
      "cell_type": "code",
      "metadata": {
        "id": "Bfou_CW98lrP"
      },
      "source": [
        "# Predicted value\n",
        "y_pred3_ = etr_random.best_estimator_.predict(X_test)"
      ],
      "execution_count": null,
      "outputs": []
    },
    {
      "cell_type": "code",
      "metadata": {
        "id": "yQFF07Zc8qVA"
      },
      "source": [
        "#R2 score after optimization\n",
        "best_random_etr = etr_random.best_estimator_\n",
        "R2_after_etr= evaluate(best_random_etr, X_test, y_test)"
      ],
      "execution_count": null,
      "outputs": []
    },
    {
      "cell_type": "markdown",
      "metadata": {
        "id": "s5PsBUxjGtkr"
      },
      "source": [
        ""
      ]
    },
    {
      "cell_type": "code",
      "metadata": {
        "id": "8BhoSqG_8uWG"
      },
      "source": [
        "f, (ax1, ax2) = plt.subplots(1, 2, sharey=True)\n",
        "#Visualize the heating load output after optimization\n",
        "plt.figure(figsize = (5,5))\n",
        "ax1.plot(range(0,len(X_test)),y_test.iloc[:,0],'o',color='red',label = 'Actual Values')\n",
        "ax1.plot(range(0,len(X_test)),y_pred3_[:,0],'X',color='yellow',label = 'Predicted Values')\n",
        "ax1.set_xlabel('Test Cases')\n",
        "ax1.set_ylabel('Heating Load')\n",
        "ax1.set_title('Heating  Load After Optimization')\n",
        "ax1.legend(loc = 'upper right')\n",
        "\n",
        "#Visualize the cooling load output after optimization\n",
        "plt.figure(figsize = (5,5))\n",
        "ax2.plot(range(0,len(X_test)),y_test.iloc[:,1],'o',color='green',label = 'Actual Values')\n",
        "ax2.plot(range(0,len(X_test)),y_pred3_[:,1],'X',color='blue',label = 'Predicted Values')\n",
        "ax2.set_xlabel('Test Cases')\n",
        "ax2.set_ylabel('Cooling Load')\n",
        "ax2.set_title('Cooling Load After Optimization')\n",
        "ax2.legend(loc = 'upper right')\n",
        "\n",
        "plt.show()"
      ],
      "execution_count": null,
      "outputs": []
    },
    {
      "cell_type": "code",
      "metadata": {
        "id": "p1qAitES8vuw"
      },
      "source": [
        ""
      ],
      "execution_count": null,
      "outputs": []
    },
    {
      "cell_type": "markdown",
      "metadata": {
        "id": "SAxhaaRlGu0m"
      },
      "source": [
        ""
      ]
    },
    {
      "cell_type": "code",
      "metadata": {
        "id": "_lnt67eOGwTZ"
      },
      "source": [
        "# create a fitted model with all features\n",
        "import statsmodels.formula.api as smf\n",
        "data2=data.copy()\n",
        "lm1 = smf.ols(formula='heating_load ~ relative_compactness + surface_area + wall_area + roof_area + overall_height + orientation + glazing_area + glazing_area_distribution', data=data2).fit()"
      ],
      "execution_count": null,
      "outputs": []
    },
    {
      "cell_type": "code",
      "metadata": {
        "id": "8r4OguPBG2yd"
      },
      "source": [
        "# Summarize fitted mode\n",
        "lm1.summary()"
      ],
      "execution_count": null,
      "outputs": []
    },
    {
      "cell_type": "code",
      "metadata": {
        "id": "K47AXpC0HDY7"
      },
      "source": [
        "# create a fitted model with all features excluding \"orientation\"\n",
        "lm2 = smf.ols(formula='heating_load ~ relative_compactness + surface_area + wall_area + roof_area + overall_height + glazing_area + glazing_area_distribution', data=data2).fit()"
      ],
      "execution_count": null,
      "outputs": []
    },
    {
      "cell_type": "code",
      "metadata": {
        "id": "P_kBJVoqHG6a"
      },
      "source": [
        "# Summarize fitted mode\n",
        "lm2.summary()\n"
      ],
      "execution_count": null,
      "outputs": []
    },
    {
      "cell_type": "code",
      "metadata": {
        "id": "EhbBDDpCHHhZ"
      },
      "source": [
        ""
      ],
      "execution_count": null,
      "outputs": []
    }
  ]
}